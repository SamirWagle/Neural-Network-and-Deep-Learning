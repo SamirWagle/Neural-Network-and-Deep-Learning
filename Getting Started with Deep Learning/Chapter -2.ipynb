{
 "cells": [
  {
   "cell_type": "code",
   "execution_count": 1,
   "metadata": {},
   "outputs": [
    {
     "name": "stdout",
     "output_type": "stream",
     "text": [
      "b'Hello TensorFlow!'\n"
     ]
    }
   ],
   "source": [
    "import tensorflow as tf\n",
    "hello = tf.constant(\"Hello TensorFlow!\")\n",
    "# not required these things in new tensorflow     sess = tf.Session()\n",
    "# not required with this method. We can do directly print(sess.run(hello))\n",
    "print(hello.numpy())\n",
    "\n",
    "\n"
   ]
  },
  {
   "cell_type": "markdown",
   "metadata": {},
   "source": [
    "**Add**"
   ]
  },
  {
   "cell_type": "code",
   "execution_count": null,
   "metadata": {},
   "outputs": [],
   "source": [
    "import tensorflow as tf\n",
    "x = 2\n",
    "y = 3\n",
    "z = tf.add(x, y, name='Add')\n",
    "print(z)\n",
    "\n"
   ]
  },
  {
   "cell_type": "markdown",
   "metadata": {},
   "source": [
    "**Direct Dependency**"
   ]
  },
  {
   "cell_type": "code",
   "execution_count": null,
   "metadata": {},
   "outputs": [],
   "source": [
    "#direct dependency\n",
    "a = tf.multiply(8,5)\n",
    "print(a)\n",
    "b = tf.multiply(a,1)\n",
    "print(b)\n",
    "\n"
   ]
  },
  {
   "cell_type": "markdown",
   "metadata": {},
   "source": [
    "**Indirect Dependency**"
   ]
  },
  {
   "cell_type": "code",
   "execution_count": null,
   "metadata": {},
   "outputs": [],
   "source": [
    "a = tf.multiply(8,5)\n",
    "print(a)\n",
    "\n",
    "b = tf.multiply(4,3)\n",
    "print(b)\n",
    "\n",
    "\n",
    "\n",
    "\n"
   ]
  },
  {
   "cell_type": "code",
   "execution_count": null,
   "metadata": {},
   "outputs": [],
   "source": [
    "**Graph**"
   ]
  },
  {
   "cell_type": "code",
   "execution_count": null,
   "metadata": {},
   "outputs": [],
   "source": [
    "\n",
    "graph = tf.Graph()\n",
    "with graph.as_default():\n",
    "    z = tf.add(x, y, name='Add')\n",
    "print(graph.as_graph_def())"
   ]
  },
  {
   "cell_type": "markdown",
   "metadata": {},
   "source": [
    "**Sessions not needed  in tf2.x**"
   ]
  },
  {
   "cell_type": "code",
   "execution_count": null,
   "metadata": {},
   "outputs": [],
   "source": [
    "\n",
    "\n",
    "a = tf.multiply(3,3)\n",
    "print(a.numpy())\n",
    "\n"
   ]
  },
  {
   "cell_type": "markdown",
   "metadata": {},
   "source": [
    "**Variables**\n"
   ]
  },
  {
   "cell_type": "code",
   "execution_count": null,
   "metadata": {},
   "outputs": [],
   "source": [
    "#Variables \n",
    "x = tf.Variable(13)\n",
    "W = tf.Variable(tf.random.normal([500, 111], stddev=0.35), name=\"weights\")\n",
    "W2 = tf.Variable(W.numpy(), name=\"weights_2\")\n",
    "print(\"x:\", x.numpy())\n",
    "print(\"W shape:\", W.shape)\n",
    "print(\"W2 shape:\", W2.shape)\n",
    "# tf.global_variables_initializer() not needed in tensorflow 2.0\n",
    "\n",
    "x = tf.Variable(1212)\n",
    "print(x.numpy())\n",
    "\n",
    "#tf.get_variable() and tf.variable_scope() are depretiated in tensorflow 2.0\n",
    "W3 = tf.Variable(initial_value=tf.random.normal([500, 111]), name='weights')\n",
    "print(\"W3 shape:\", W3.shape)\n",
    "print(W3)\n",
    "\n",
    "x = tf.Variable(initial_value=[0.0, 0.0], name='x')  \n",
    "a = x  \n",
    "b = x  \n",
    "print(a)\n",
    "print(b)\n"
   ]
  },
  {
   "cell_type": "markdown",
   "metadata": {},
   "source": [
    "**Constants**"
   ]
  },
  {
   "cell_type": "code",
   "execution_count": null,
   "metadata": {},
   "outputs": [],
   "source": [
    "#constants\n",
    "\n",
    "x = tf.constant(13)\n"
   ]
  },
  {
   "cell_type": "markdown",
   "metadata": {},
   "source": [
    "\n",
    "# Feed dictionaries are also removed in tensorflow 2.0  along with placeholder"
   ]
  },
  {
   "cell_type": "markdown",
   "metadata": {},
   "source": [
    "# TensorBoard\n"
   ]
  },
  {
   "cell_type": "code",
   "execution_count": 16,
   "metadata": {},
   "outputs": [
    {
     "name": "stdout",
     "output_type": "stream",
     "text": [
      "Sum: 10\n"
     ]
    }
   ],
   "source": [
    "\n",
    "import tensorflow as tf\n",
    "\n",
    "# Define a TensorBoard writer\n",
    "logdir = './graphs'  # Directory to save the logs\n",
    "writer = tf.summary.create_file_writer(logdir)\n",
    "\n",
    "# Create a function that builds the graph\n",
    "\n",
    "def compute_graph():\n",
    "    # Define constants\n",
    "    x = tf.constant(1, name='x')\n",
    "    y = tf.constant(1, name='y')\n",
    "    a = tf.constant(3, name='a')\n",
    "    b = tf.constant(3, name='b')\n",
    "\n",
    "    # Multiply x and y, a and b\n",
    "    prod1 = tf.multiply(x, y, name='prod1')\n",
    "    prod2 = tf.multiply(a, b, name='prod2')\n",
    "\n",
    "    # Add prod1 and prod2\n",
    "    return tf.add(prod1, prod2, name='sum')\n",
    "\n",
    "# Record the graph in TensorBoard\n",
    "with writer.as_default():\n",
    "    tf.summary.graph(tf.function(compute_graph).get_concrete_function().graph)\n",
    "\n",
    "# Run the computation and print the result\n",
    "result = compute_graph()\n",
    "print(\"Sum:\", result.numpy())\n",
    "\n",
    "# To run TensorBoard, use the following command in your terminal:\n",
    "# tensorboard --logdir=./graphs --port=8000\n"
   ]
  },
  {
   "cell_type": "markdown",
   "metadata": {},
   "source": [
    "# Image"
   ]
  },
  {
   "cell_type": "code",
   "execution_count": 8,
   "metadata": {},
   "outputs": [
    {
     "name": "stdout",
     "output_type": "stream",
     "text": [
      "No of images in training set: (60000, 28, 28)\n",
      "No of labels in training set: (60000,)\n",
      "No of images in test set: (10000, 28, 28)\n",
      "No of labels in test set: (10000,)\n"
     ]
    },
    {
     "data": {
      "image/png": "[encoded data removed]",
      "text/plain": [
       "<Figure size 640x480 with 1 Axes>"
      ]
     },
     "metadata": {},
     "output_type": "display_data"
    },
    {
     "data": {
      "image/png": "[encoded data removed]",
      "text/plain": [
       "<Figure size 640x480 with 1 Axes>"
      ]
     },
     "metadata": {},
     "output_type": "display_data"
    }
   ],
   "source": [
    "import warnings\n",
    "warnings.filterwarnings('ignore')\n",
    "import tensorflow as tf\n",
    "import matplotlib.pyplot as plt\n",
    "\n",
    "\n",
    "# Load the MNIST dataset\n",
    "mnist = tf.keras.datasets.mnist\n",
    "(train_images, train_labels), (test_images, test_labels) = mnist.load_data()\n",
    "\n",
    "# Normalize the images to a range of 0 to 1\n",
    "train_images = train_images.astype('float32') / 255.0\n",
    "test_images = test_images.astype('float32') / 255.0\n",
    "\n",
    "# Check the shape of the datasets\n",
    "print(\"No of images in training set: {}\".format(train_images.shape))\n",
    "print(\"No of labels in training set: {}\".format(train_labels.shape))\n",
    "print(\"No of images in test set: {}\".format(test_images.shape))\n",
    "print(\"No of labels in test set: {}\".format(test_labels.shape))\n",
    "# Display the first training image\n",
    "\n",
    "img1 = train_images[1].reshape(28,28)\n",
    "plt.imshow(img1, cmap='Greys')\n",
    "plt.show()\n",
    "\n",
    "\n",
    "\n"
   ]
  },
  {
   "cell_type": "markdown",
   "metadata": {},
   "source": [
    "# Model Build and Training"
   ]
  },
  {
   "cell_type": "code",
   "execution_count": 2,
   "metadata": {},
   "outputs": [
    {
     "name": "stderr",
     "output_type": "stream",
     "text": [
      "c:\\Users\\L E G I O N\\Desktop\\7TH Semester\\Lab Works\\samirenv\\Lib\\site-packages\\keras\\src\\layers\\reshaping\\flatten.py:37: UserWarning: Do not pass an `input_shape`/`input_dim` argument to a layer. When using Sequential models, prefer using an `Input(shape)` object as the first layer in the model instead.\n",
      "  super().__init__(**kwargs)\n"
     ]
    },
    {
     "name": "stdout",
     "output_type": "stream",
     "text": [
      "Epoch 1/10\n",
      "\u001b[1m1875/1875\u001b[0m \u001b[32m━━━━━━━━━━━━━━━━━━━━\u001b[0m\u001b[37m\u001b[0m \u001b[1m9s\u001b[0m 4ms/step - accuracy: 0.8136 - loss: 0.7022 - val_accuracy: 0.9482 - val_loss: 0.1707\n",
      "Epoch 2/10\n",
      "\u001b[1m1875/1875\u001b[0m \u001b[32m━━━━━━━━━━━━━━━━━━━━\u001b[0m\u001b[37m\u001b[0m \u001b[1m8s\u001b[0m 4ms/step - accuracy: 0.9548 - loss: 0.1596 - val_accuracy: 0.9641 - val_loss: 0.1175\n",
      "Epoch 3/10\n",
      "\u001b[1m1875/1875\u001b[0m \u001b[32m━━━━━━━━━━━━━━━━━━━━\u001b[0m\u001b[37m\u001b[0m \u001b[1m8s\u001b[0m 4ms/step - accuracy: 0.9696 - loss: 0.1047 - val_accuracy: 0.9703 - val_loss: 0.0965\n",
      "Epoch 4/10\n",
      "\u001b[1m1875/1875\u001b[0m \u001b[32m━━━━━━━━━━━━━━━━━━━━\u001b[0m\u001b[37m\u001b[0m \u001b[1m8s\u001b[0m 4ms/step - accuracy: 0.9770 - loss: 0.0758 - val_accuracy: 0.9720 - val_loss: 0.0895\n",
      "Epoch 5/10\n",
      "\u001b[1m1875/1875\u001b[0m \u001b[32m━━━━━━━━━━━━━━━━━━━━\u001b[0m\u001b[37m\u001b[0m \u001b[1m8s\u001b[0m 4ms/step - accuracy: 0.9834 - loss: 0.0569 - val_accuracy: 0.9753 - val_loss: 0.0799\n",
      "Epoch 6/10\n",
      "\u001b[1m1875/1875\u001b[0m \u001b[32m━━━━━━━━━━━━━━━━━━━━\u001b[0m\u001b[37m\u001b[0m \u001b[1m8s\u001b[0m 4ms/step - accuracy: 0.9879 - loss: 0.0430 - val_accuracy: 0.9748 - val_loss: 0.0810\n",
      "Epoch 7/10\n",
      "\u001b[1m1736/1875\u001b[0m \u001b[32m━━━━━━━━━━━━━━━━━━\u001b[0m\u001b[37m━━\u001b[0m \u001b[1m0s\u001b[0m 4ms/step - accuracy: 0.9898 - loss: 0.0345"
     ]
    }
   ],
   "source": [
    "import tensorflow as tf\n",
    "from tensorflow.keras import layers, models\n",
    "from tensorflow.keras.losses import SparseCategoricalCrossentropy\n",
    "from tensorflow.keras.optimizers import Adam\n",
    "import matplotlib.pyplot as plt\n",
    "\n",
    "# forward and backward propagation is automatically done in keras tensorflow. So it is not done manually. \n",
    "# Load the MNIST dataset\n",
    "mnist = tf.keras.datasets.mnist\n",
    "(train_images, train_labels), (test_images, test_labels) = mnist.load_data()\n",
    "\n",
    "# Normalize the images\n",
    "train_images = train_images.astype('float32') / 255.0\n",
    "test_images = test_images.astype('float32') / 255.0\n",
    "\n",
    "# Define the number of neurons in each layer\n",
    "num_input = 784\n",
    "num_hidden1 = 512\n",
    "num_hidden2 = 256\n",
    "num_hidden3 = 128\n",
    "num_output = 10\n",
    "\n",
    "# Build the model\n",
    "model = models.Sequential()\n",
    "model.add(layers.Flatten(input_shape=(28, 28)))  # Flatten the input images\n",
    "model.add(layers.Dense(num_hidden1, activation='relu', kernel_initializer='truncated_normal'))\n",
    "model.add(layers.Dense(num_hidden2, activation='relu', kernel_initializer='truncated_normal'))\n",
    "model.add(layers.Dense(num_hidden3, activation='relu', kernel_initializer='truncated_normal'))\n",
    "model.add(layers.Dense(num_output, activation='sigmoid'))  # Output layer with softmax\n",
    "\n",
    "# Compile the model\n",
    "model.compile(optimizer=Adam(learning_rate=1e-4),\n",
    "              loss=SparseCategoricalCrossentropy(),\n",
    "              metrics=['accuracy'])\n",
    "\n",
    "# Create a log directory for TensorBoard\n",
    "log_dir = \"logs/fit/\"\n",
    "tensorboard_callback = tf.keras.callbacks.TensorBoard(log_dir, histogram_freq=1)\n",
    "\n",
    "# Custom callback for logging test metrics\n",
    "class CustomLoggingCallback(tf.keras.callbacks.Callback):\n",
    "    def on_epoch_end(self, epoch, logs=None):\n",
    "        # Evaluate the model on the test set\n",
    "        test_loss, test_accuracy = model.evaluate(test_images, test_labels, verbose=0)\n",
    "        \n",
    "        # Log the test metrics\n",
    "        tf.summary.scalar(\"Test Accuracy\", test_accuracy, step=epoch)\n",
    "        tf.summary.scalar(\"Test Loss\", test_loss, step=epoch)\n",
    "\n",
    "# Train the model\n",
    "model.fit(train_images, train_labels, epochs=10, batch_size=32, validation_data=(test_images, test_labels))\n",
    "\n",
    "# Evaluate the model\n",
    "test_loss, test_accuracy = model.evaluate(test_images, test_labels)\n",
    "print(f'\\nTest accuracy: {test_accuracy:.4f}')\n",
    "\n",
    "\n",
    "\n",
    "\n"
   ]
  },
  {
   "cell_type": "markdown",
   "metadata": {},
   "source": [
    "# Here No need to initiate variable to global"
   ]
  },
  {
   "cell_type": "markdown",
   "metadata": {},
   "source": [
    "# Eager Execution"
   ]
  },
  {
   "cell_type": "code",
   "execution_count": 19,
   "metadata": {},
   "outputs": [
    {
     "name": "stdout",
     "output_type": "stream",
     "text": [
      "tf.Tensor(121, shape=(), dtype=int32)\n"
     ]
    },
    {
     "data": {
      "text/plain": [
       "121"
      ]
     },
     "execution_count": 19,
     "metadata": {},
     "output_type": "execute_result"
    }
   ],
   "source": [
    "#Eager Execution is enabled by default.\n",
    "\n",
    "\n",
    "x = tf.constant(11)\n",
    "y = tf.constant(11)\n",
    "z = x*y\n",
    "print(z)\n",
    "z.numpy()\n"
   ]
  },
  {
   "cell_type": "markdown",
   "metadata": {},
   "source": [
    "# Math operation in TensorFlow"
   ]
  },
  {
   "cell_type": "code",
   "execution_count": 26,
   "metadata": {},
   "outputs": [
    {
     "name": "stdout",
     "output_type": "stream",
     "text": [
      "sum is [4. 4. 4.]\n",
      "difference is [-2.  0.  2.]\n",
      "product is [3. 4. 3.]\n",
      "division is [0.33333334 1.         3.        ]\n",
      "dot product is 10.0\n",
      "min value index is 1\n",
      "max value index is 2\n",
      "<dtype: 'int32'>\n",
      "<dtype: 'float32'>\n"
     ]
    }
   ],
   "source": [
    "#Math operation in tensorflow\n",
    "x = tf.constant([1., 2., 3.])\n",
    "y = tf.constant([3., 2., 1.])\n",
    "sum = tf.add(x,y)\n",
    "print('sum is',sum.numpy())\n",
    "\n",
    "difference = tf.subtract(x,y)\n",
    "print('difference is',difference.numpy())\n",
    "\n",
    "product = tf.multiply(x,y)\n",
    "print('product is',product.numpy())\n",
    "\n",
    "division = tf.divide(x,y)\n",
    "print('division is',division.numpy())\n",
    "\n",
    "dot_product = tf.reduce_sum(tf.multiply(x, y))\n",
    "print('dot product is',dot_product.numpy())\n",
    "\n",
    "x = tf.constant([10, 0, 13, 9])\n",
    "print('min value index is',tf.argmin(x).numpy()) #minimum value index\n",
    "print('max value index is',tf.argmax(x).numpy()) #maximum value index\n",
    "\n",
    "\n",
    "\n",
    "#squared difference between x and y\n",
    "x = tf.Variable([1,3,5,7,11])\n",
    "y = tf.Variable([1])\n",
    "tf.math.squared_difference(x,y).numpy()\n",
    "\n",
    "\n",
    "#typecasting\n",
    "\n",
    "print(x.dtype)\n",
    "x = tf.cast(x, dtype=tf.float32)\n",
    "print (x.dtype)\n"
   ]
  },
  {
   "cell_type": "code",
   "execution_count": 27,
   "metadata": {},
   "outputs": [
    {
     "data": {
      "text/plain": [
       "array([[3, 6, 9],\n",
       "       [7, 7, 7],\n",
       "       [4, 5, 6],\n",
       "       [5, 5, 5]])"
      ]
     },
     "execution_count": 27,
     "metadata": {},
     "output_type": "execute_result"
    }
   ],
   "source": [
    "#concantenate 2 matrices rowwise\n",
    "x = [[3,6,9], [7,7,7]]\n",
    "y = [[4,5,6], [5,5,5]]\n",
    "tf.concat([x, y], 0).numpy()"
   ]
  },
  {
   "cell_type": "code",
   "execution_count": 28,
   "metadata": {},
   "outputs": [
    {
     "data": {
      "text/plain": [
       "array([[3, 6, 9, 4, 5, 6],\n",
       "       [7, 7, 7, 5, 5, 5]])"
      ]
     },
     "execution_count": 28,
     "metadata": {},
     "output_type": "execute_result"
    }
   ],
   "source": [
    "tf.concat([x, y], 1).numpy()\n",
    "#column wise concatenate"
   ]
  },
  {
   "cell_type": "code",
   "execution_count": 29,
   "metadata": {},
   "outputs": [
    {
     "data": {
      "text/plain": [
       "array([[3, 7],\n",
       "       [6, 7],\n",
       "       [9, 7]])"
      ]
     },
     "execution_count": 29,
     "metadata": {},
     "output_type": "execute_result"
    }
   ],
   "source": [
    "#stack the \n",
    "tf.stack(x, axis=1).numpy()\n"
   ]
  },
  {
   "cell_type": "code",
   "execution_count": 30,
   "metadata": {},
   "outputs": [
    {
     "data": {
      "text/plain": [
       "2.75"
      ]
     },
     "execution_count": 30,
     "metadata": {},
     "output_type": "execute_result"
    }
   ],
   "source": [
    "x = tf.Variable([[1.0, 5.0], [2.0, 3.0]])\n",
    "x.numpy()\n",
    "tf.reduce_mean(input_tensor=x).numpy()\n",
    "\n",
    "#reduced mean\n",
    "\n"
   ]
  },
  {
   "cell_type": "code",
   "execution_count": 31,
   "metadata": {},
   "outputs": [
    {
     "data": {
      "text/plain": [
       "array([[3. ],\n",
       "       [2.5]], dtype=float32)"
      ]
     },
     "execution_count": 31,
     "metadata": {},
     "output_type": "execute_result"
    }
   ],
   "source": [
    "#mean across column\n",
    "tf.reduce_mean(input_tensor=x, axis=1, keepdims=True).numpy()\n"
   ]
  },
  {
   "cell_type": "code",
   "execution_count": 32,
   "metadata": {},
   "outputs": [
    {
     "data": {
      "text/plain": [
       "array([[0.617892  , 0.72745967],\n",
       "       [0.94492507, 0.5514846 ],\n",
       "       [0.728614  , 0.6576817 ]], dtype=float32)"
      ]
     },
     "execution_count": 32,
     "metadata": {},
     "output_type": "execute_result"
    }
   ],
   "source": [
    "#Draw random values from the probability distributions:\n",
    "\n",
    "tf.random.normal(shape=(3,2), mean=10.0, stddev=2.0).numpy()\n",
    "tf.random.uniform(shape = (3,2), minval=0, maxval=None, dtype=tf.float32,).numpy()"
   ]
  },
  {
   "cell_type": "code",
   "execution_count": 33,
   "metadata": {},
   "outputs": [
    {
     "data": {
      "text/plain": [
       "array([0.8756006 , 0.00589975, 0.11849965], dtype=float32)"
      ]
     },
     "execution_count": 33,
     "metadata": {},
     "output_type": "execute_result"
    }
   ],
   "source": [
    "#Softmax Probability\n",
    "x = tf.constant([7., 2., 5.])\n",
    "tf.nn.softmax(x).numpy()"
   ]
  },
  {
   "cell_type": "code",
   "execution_count": 36,
   "metadata": {},
   "outputs": [
    {
     "name": "stdout",
     "output_type": "stream",
     "text": [
      "36.0\n"
     ]
    }
   ],
   "source": [
    "#Defining Square Function\n",
    "def square(x):\n",
    "    return tf.multiply(x, x)\n",
    "\n",
    "with tf.GradientTape(persistent=True) as tape:\n",
    "    print (square(6.).numpy())\n",
    "\n",
    "\n"
   ]
  }
 ],
 "metadata": {
  "kernelspec": {
   "display_name": "Python 3",
   "language": "python",
   "name": "python3"
  },
  "language_info": {
   "codemirror_mode": {
    "name": "ipython",
    "version": 3
   },
   "file_extension": ".py",
   "mimetype": "text/x-python",
   "name": "python",
   "nbconvert_exporter": "python",
   "pygments_lexer": "ipython3",
   "version": "3.12.3"
  }
 },
 "nbformat": 4,
 "nbformat_minor": 2
}
