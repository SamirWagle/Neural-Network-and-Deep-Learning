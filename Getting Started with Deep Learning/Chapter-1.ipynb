{
 "cells": [
  {
   "cell_type": "markdown",
   "metadata": {},
   "source": []
  },
  {
   "cell_type": "code",
   "execution_count": 1,
   "metadata": {},
   "outputs": [],
   "source": [
    "#import\n",
    "import pandas as pd\n",
    "import numpy as np\n",
    "import tensorflow as tf\n"
   ]
  },
  {
   "cell_type": "code",
   "execution_count": 4,
   "metadata": {},
   "outputs": [
    {
     "name": "stdout",
     "output_type": "stream",
     "text": [
      "0.9999546021312976\n"
     ]
    }
   ],
   "source": [
    "#sigmoid function   \n",
    "def sigmoid(x):\n",
    "    return 1/ (1+np.exp(-x))\n",
    "\n",
    "\n",
    "print(sigmoid(10))\n"
   ]
  },
  {
   "cell_type": "code",
   "execution_count": 5,
   "metadata": {},
   "outputs": [
    {
     "name": "stdout",
     "output_type": "stream",
     "text": [
      "1.0\n"
     ]
    }
   ],
   "source": [
    "#tanh function\n",
    "\n",
    "def tanh(x):\n",
    "    numerator = 1-np.exp(-2*x)\n",
    "    denominator = 1+np.exp(-2*x)\n",
    "    return numerator/denominator\n",
    "\n",
    "\n",
    "\n",
    "print(tanh(45))\n"
   ]
  },
  {
   "cell_type": "code",
   "execution_count": 8,
   "metadata": {},
   "outputs": [
    {
     "name": "stdout",
     "output_type": "stream",
     "text": [
      "100\n",
      "0\n"
     ]
    }
   ],
   "source": [
    "#relu function\n",
    "def RelU(x):\n",
    "    if x < 0:\n",
    "        return 0\n",
    "    else:\n",
    "        return x\n",
    "\n",
    "\n",
    "print(RelU(100))\n",
    "print(RelU(-100))"
   ]
  },
  {
   "cell_type": "code",
   "execution_count": 9,
   "metadata": {},
   "outputs": [
    {
     "name": "stdout",
     "output_type": "stream",
     "text": [
      "-10.0\n"
     ]
    }
   ],
   "source": [
    "#Leaky Relu Function\n",
    "def leakyReLU(x, alpha=0.01):\n",
    "    if x < 0:\n",
    "        return alpha * x\n",
    "    else:\n",
    "        return x\n",
    "\n",
    "\n",
    "print(leakyReLU(-1000))"
   ]
  },
  {
   "cell_type": "code",
   "execution_count": 11,
   "metadata": {},
   "outputs": [
    {
     "name": "stdout",
     "output_type": "stream",
     "text": [
      "-1.0\n",
      "100\n"
     ]
    }
   ],
   "source": [
    "#ELU\n",
    "\n",
    "def ELU(x, alpha=1):\n",
    "    if x < 0:\n",
    "        return alpha * (np.exp(x) - 1)\n",
    "    else:\n",
    "        return x\n",
    "\n",
    "\n",
    "print(ELU(-100))\n",
    "print(ELU(100))"
   ]
  },
  {
   "cell_type": "code",
   "execution_count": 12,
   "metadata": {},
   "outputs": [
    {
     "name": "stdout",
     "output_type": "stream",
     "text": [
      "1.4621171572600098\n"
     ]
    }
   ],
   "source": [
    "#Swish Function\n",
    "def swish(x, beta):\n",
    "    return 2 * x * sigmoid(beta * x)\n",
    "\n",
    "\n",
    "print(swish(1, 1))"
   ]
  },
  {
   "cell_type": "code",
   "execution_count": 18,
   "metadata": {},
   "outputs": [
    {
     "name": "stdout",
     "output_type": "stream",
     "text": [
      "[0.37754067 0.62245933]\n"
     ]
    }
   ],
   "source": [
    "#Softmax Function\n",
    "\n",
    "def softmax(x):\n",
    "    return np.exp(x) / np.exp(x).sum(axis=0)\n",
    "\n",
    "\n",
    "print(softmax(np.array([0.5,1])))"
   ]
  },
  {
   "cell_type": "code",
   "execution_count": 33,
   "metadata": {},
   "outputs": [
    {
     "name": "stdout",
     "output_type": "stream",
     "text": [
      "(array([0.9999546 , 0.99999774]), array([136, 151, 166]), array([1., 1., 1.]), array([10., 13.]))\n"
     ]
    }
   ],
   "source": [
    "#Forward Propagation in ANN\n",
    "import numpy as np\n",
    "\n",
    "# Define the weights and biases\n",
    "Wxh = np.array([[1, 2, 3], [4, 5, 6], [7, 8, 9], [10, 11, 12], [13, 14, 15]])  # Shape (input_dim, hidden_dim)\n",
    "bh = np.array([1, 1, 1])  # Shape (hidden_dim,)\n",
    "Why = np.array([[1, 2], [3, 4], [5, 6]])  # Shape (hidden_dim, output_dim)\n",
    "by = np.array([1, 1])  # Shape (output_dim,)\n",
    "\n",
    "def sigmoid(x):\n",
    "    return 1 / (1 + np.exp(-x))\n",
    "\n",
    "def forward_prop(x):\n",
    "    z1 = np.dot(x, Wxh) + bh\n",
    "    a1 = sigmoid(z1)\n",
    "    z2 = np.dot(a1, Why) + by\n",
    "    y_hat = sigmoid(z2)\n",
    "    return y_hat,z1,a1,z2\n",
    "\n",
    "print(forward_prop(np.array([1, 2, 3, 4, 5])))\n",
    "\n",
    "\n",
    "\n",
    "\n"
   ]
  },
  {
   "cell_type": "code",
   "execution_count": 38,
   "metadata": {},
   "outputs": [
    {
     "name": "stdout",
     "output_type": "stream",
     "text": [
      "Updated Wxh: [[0.09999854 0.19999757]\n",
      " [0.29999815 0.39999684]\n",
      " [0.49999775 0.59999612]]\n",
      "Updated Why: [[0.0998865 ]\n",
      " [0.19987754]]\n"
     ]
    }
   ],
   "source": [
    "import numpy as np\n",
    "\n",
    "# Define the sigmoid and its derivative\n",
    "def sigmoid(x):\n",
    "    return 1 / (1 + np.exp(-x))\n",
    "\n",
    "def sigmoid_derivative(x):\n",
    "    s = sigmoid(x)\n",
    "    return s * (1 - s)\n",
    "\n",
    "# Forward propagation function\n",
    "def forward_prop(X):\n",
    "    z1 = np.dot(X, Wxh) + bh \n",
    "    a1 = sigmoid(z1)\n",
    "    z2 = np.dot(a1, Why) + by \n",
    "    y_hat = sigmoid(z2)\n",
    "    return y_hat, z1, a1, z2\n",
    "\n",
    "# Backward propagation function\n",
    "def backward_prop(y_hat, z1, a1, z2, Wxh, Why, X, y, alpha):\n",
    "    delta2 = np.multiply(-(y - y_hat), sigmoid_derivative(z2)) \n",
    "    dJ_dWhy = np.dot(a1.T, delta2)  \n",
    "\n",
    "    # Compute delta for hidden layer\n",
    "    delta1 = np.dot(delta2, Why.T) * sigmoid_derivative(z1) \n",
    "    dJ_dWxh = np.dot(X.T, delta1) \n",
    "    \n",
    "    # Update weights\n",
    "    Wxh -= alpha * dJ_dWxh\n",
    "    Why -= alpha * dJ_dWhy\n",
    "\n",
    "    return Wxh, Why\n",
    "\n",
    "# Initialize weights and biases\n",
    "Wxh = np.array([[0.1, 0.2],\n",
    "                [0.3, 0.4],\n",
    "                [0.5, 0.6]])  \n",
    "bh = np.array([0.1, 0.2]) \n",
    "\n",
    "Why = np.array([[0.1],\n",
    "                [0.2]])  \n",
    "\n",
    "by = np.array([0.1])  \n",
    "\n",
    "# Example input and true labels\n",
    "x = np.array([[0.1, 0.2, 0.3],\n",
    "              [0.4, 0.5, 0.6],\n",
    "              [0.7, 0.8, 0.9]])\n",
    "\n",
    "y = np.array([[0],\n",
    "              [1],\n",
    "              [0]])\n",
    "\n",
    "alpha = 0.001\n",
    "\n",
    "# Perform forward propagation\n",
    "y_hat, z1, a1, z2 = forward_prop(x)\n",
    "\n",
    "# Perform backward propagation\n",
    "Wxh, Why = backward_prop(y_hat, z1, a1, z2, Wxh, Why, x, y, alpha)\n",
    "\n",
    "print(\"Updated Wxh:\", Wxh)\n",
    "print(\"Updated Why:\", Why)\n"
   ]
  },
  {
   "cell_type": "code",
   "execution_count": 39,
   "metadata": {},
   "outputs": [
    {
     "data": {
      "text/plain": [
       "Text(0, 0.5, 'Cost')"
      ]
     },
     "execution_count": 39,
     "metadata": {},
     "output_type": "execute_result"
    },
    {
     "data": {
      "image/png": "[encoded data removed]",
      "text/plain": [
       "<Figure size 640x480 with 1 Axes>"
      ]
     },
     "metadata": {},
     "output_type": "display_data"
    }
   ],
   "source": [
    "import numpy as np\n",
    "import matplotlib.pyplot as plt\n",
    "%matplotlib inline\n",
    "\n",
    "X = np.array([[0,1], [1,0], [1,1], [0,0]])\n",
    "y = np.array([[1], [1], [0], [0]])\n",
    "\n",
    "num_input = 2\n",
    "num_hidden = 5\n",
    "num_output = 1\n",
    "\n",
    "Wxh = np.random.randn(num_input, num_hidden)\n",
    "bh = np.zeros((1, num_hidden))\n",
    "\n",
    "Why = np.random.randn(num_hidden, num_output)\n",
    "by = np.zeros((1, num_output))\n",
    "\n",
    "def sigmoid(z):\n",
    "    return 1 / (1 + np.exp(-z))\n",
    "  \n",
    "def sigmoid_derivative(z):\n",
    "    return np.exp(-z) / (1 + np.exp(-z))**2\n",
    "  \n",
    "def forward_prop(X, Wxh, Why):\n",
    "    z1 = np.dot(X, Wxh) + bh\n",
    "    a1 = sigmoid(z1)\n",
    "    z2 = np.dot(a1, Why) + by\n",
    "    y_hat = sigmoid(z2)\n",
    "    \n",
    "    return z1, a1, z2, y_hat\n",
    "  \n",
    "def backward_prop(y_hat, z1, a1, z2):\n",
    "    delta2 = np.multiply(-(y - y_hat), sigmoid_derivative(z2))\n",
    "    dJ_dWhy = np.dot(a1.T, delta2)\n",
    "    delta1 = np.dot(delta2, Why.T) * sigmoid_derivative(z1)\n",
    "    dJ_dWxh = np.dot(X.T, delta1)\n",
    "    \n",
    "    return dJ_dWxh, dJ_dWhy\n",
    "  \n",
    "def cost_function(y, y_hat):\n",
    "    J = 0.5 * sum((y - y_hat)**2)\n",
    "    return J\n",
    "\n",
    "alpha = 0.01\n",
    "num_iterations = 5000\n",
    "\n",
    "cost = []\n",
    "\n",
    "for i in range(num_iterations):\n",
    "    z1, a1, z2, y_hat = forward_prop(X, Wxh, Why)\n",
    "    dJ_dWxh, dJ_dWhy = backward_prop(y_hat, z1, a1, z2)\n",
    "    \n",
    "    # update weights\n",
    "    Wxh = Wxh - alpha * dJ_dWxh\n",
    "    Why = Why - alpha * dJ_dWhy\n",
    "    \n",
    "    # compute cost\n",
    "    c = cost_function(y, y_hat)\n",
    "    \n",
    "    cost.append(c)\n",
    "    \n",
    "plt.grid()\n",
    "plt.plot(range(num_iterations), cost)\n",
    "plt.title('Cost Function')\n",
    "plt.xlabel('Training Iterations')\n",
    "plt.ylabel('Cost')"
   ]
  },
  {
   "cell_type": "code",
   "execution_count": null,
   "metadata": {},
   "outputs": [],
   "source": [
    "    "
   ]
  }
 ],
 "metadata": {
  "kernelspec": {
   "display_name": "Python 3",
   "language": "python",
   "name": "python3"
  },
  "language_info": {
   "codemirror_mode": {
    "name": "ipython",
    "version": 3
   },
   "file_extension": ".py",
   "mimetype": "text/x-python",
   "name": "python",
   "nbconvert_exporter": "python",
   "pygments_lexer": "ipython3",
   "version": "3.12.3"
  }
 },
 "nbformat": 4,
 "nbformat_minor": 2
}
